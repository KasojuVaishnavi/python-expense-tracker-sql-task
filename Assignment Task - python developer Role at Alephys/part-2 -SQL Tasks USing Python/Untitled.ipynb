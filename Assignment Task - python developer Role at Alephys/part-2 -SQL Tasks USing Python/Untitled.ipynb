{
 "cells": [
  {
   "cell_type": "code",
   "execution_count": 6,
   "id": "58b14d89-3ef9-4d0e-b0af-2c4014ef4460",
   "metadata": {},
   "outputs": [
    {
     "name": "stdout",
     "output_type": "stream",
     "text": [
      "Database, table, and data created successfully.\n"
     ]
    }
   ],
   "source": [
    "import mysql.connector\n",
    "from mysql.connector import Error\n",
    "\n",
    "try:\n",
    "    # Step 1: Connect to MySQL Server\n",
    "    connection = mysql.connector.connect(\n",
    "        host='localhost',\n",
    "        user='root',      # Replace with your MySQL username\n",
    "        password='Vaishu@1803'   # Replace with your MySQL password\n",
    "    )\n",
    "\n",
    "    if connection.is_connected():\n",
    "        cursor = connection.cursor()\n",
    "\n",
    "        # Step 2: Create and Use Database\n",
    "        cursor.execute(\"CREATE DATABASE IF NOT EXISTS Alephys;\")\n",
    "        cursor.execute(\"USE Alephys;\")\n",
    "\n",
    "        # Step 3: Create employees table\n",
    "        cursor.execute(\"\"\"\n",
    "            CREATE TABLE IF NOT EXISTS employees (\n",
    "                emp_id INT PRIMARY KEY,\n",
    "                emp_name VARCHAR(100),\n",
    "                department VARCHAR(50),\n",
    "                job_name VARCHAR(50),\n",
    "                manager_id INT NULL,\n",
    "                hire_date DATE,\n",
    "                salary DECIMAL(10,2),\n",
    "                commission DECIMAL(10,2) NULL\n",
    "            );\n",
    "        \"\"\")\n",
    "\n",
    "        # Step 4: Insert data into employees table\n",
    "        cursor.execute(\"\"\"\n",
    "            INSERT INTO employees (emp_id, emp_name, department, job_name, manager_id, hire_date, salary, commission)\n",
    "            VALUES \n",
    "                (1, 'Ammu', 'HR', 'Manager', NULL, '2020-01-01', 60000, NULL),\n",
    "                (2, 'Bhanu', 'HR', 'Assistant', NULL , '2021-03-15', 40000, NULL),\n",
    "                (3, 'Vaishnavi', 'IT', 'Developer', NULL, '2022-06-20', 55000, NULL),\n",
    "                (4, 'Ravi', 'IT', 'Lead', NULL, '2019-08-10', 70000, NULL),\n",
    "                (5, 'Siri', 'IT', 'Developer', NULL, '2023-01-05', 50000, NULL);\n",
    "        \"\"\")\n",
    "\n",
    "        # Step 5: Commit changes\n",
    "        connection.commit()\n",
    "        print(\"Database, table, and data created successfully.\")\n",
    "\n",
    "except Error as e:\n",
    "    print(\"Error while connecting to MySQL:\", e)\n",
    "\n",
    "finally:\n",
    "    if connection.is_connected():\n",
    "        cursor.close()\n",
    "        connection.close()"
   ]
  },
  {
   "cell_type": "code",
   "execution_count": 7,
   "id": "0dc586f9-7732-46bc-89f0-11e2db83e1e8",
   "metadata": {},
   "outputs": [
    {
     "name": "stdout",
     "output_type": "stream",
     "text": [
      "(1, 'Ammu', 'HR', 'Manager', None, datetime.date(2020, 1, 1), Decimal('60000.00'), None)\n",
      "(2, 'Bhanu', 'HR', 'Assistant', None, datetime.date(2021, 3, 15), Decimal('40000.00'), None)\n",
      "(3, 'Vaishnavi', 'IT', 'Developer', None, datetime.date(2022, 6, 20), Decimal('55000.00'), None)\n",
      "(4, 'Ravi', 'IT', 'Lead', None, datetime.date(2019, 8, 10), Decimal('70000.00'), None)\n",
      "(5, 'Siri', 'IT', 'Developer', None, datetime.date(2023, 1, 5), Decimal('50000.00'), None)\n"
     ]
    }
   ],
   "source": [
    "import mysql.connector\n",
    "\n",
    "# Connect to MySQL and select the database\n",
    "connection = mysql.connector.connect(\n",
    "    host='localhost',\n",
    "    user='root',      # Replace with your MySQL username\n",
    "    password='Vaishu@1803',  # Replace with your password\n",
    "    database='Alephys'         # The database you created\n",
    ")\n",
    "\n",
    "cursor = connection.cursor()\n",
    "\n",
    "# Run a SELECT query (example for the 'employees' table)\n",
    "cursor.execute(\"SELECT * FROM employees\")\n",
    "\n",
    "# Fetch all rows\n",
    "rows = cursor.fetchall()\n",
    "\n",
    "# Display the data\n",
    "for row in rows:\n",
    "    print(row)\n",
    "\n",
    "# Clean up\n",
    "cursor.close()\n",
    "connection.close()"
   ]
  },
  {
   "cell_type": "code",
   "execution_count": 8,
   "id": "e6d28d38-d385-4d4a-ad45-b0844882f182",
   "metadata": {},
   "outputs": [
    {
     "name": "stdout",
     "output_type": "stream",
     "text": [
      "Sales table created and data inserted successfully.\n"
     ]
    }
   ],
   "source": [
    "import mysql.connector\n",
    "from mysql.connector import Error\n",
    "\n",
    "try:\n",
    "    # Connect to MySQL\n",
    "    connection = mysql.connector.connect(\n",
    "        host='localhost',\n",
    "        user='root',      # Replace with your MySQL username\n",
    "        password='Vaishu@1803',  # Replace with your password\n",
    "        database='Alephys'         # Ensure this database is already created\n",
    "    )\n",
    "\n",
    "    cursor = connection.cursor()\n",
    "\n",
    "    # Create sales table\n",
    "    cursor.execute(\"\"\"\n",
    "        CREATE TABLE IF NOT EXISTS sales (\n",
    "            sale_id INT PRIMARY KEY,\n",
    "            date DATE NOT NULL,\n",
    "            amount DECIMAL(12,2) NOT NULL\n",
    "        );\n",
    "    \"\"\")\n",
    "\n",
    "    # Insert rows into sales table\n",
    "    cursor.execute(\"\"\"\n",
    "        INSERT INTO sales (sale_id, date, amount) VALUES\n",
    "            (1, '2024-06-01', 10000),\n",
    "            (2, '2024-06-02', 8000),\n",
    "            (3, '2024-06-03', 12000),\n",
    "            (4, '2024-06-04', 5000),\n",
    "            (5, '2024-06-01', 9000),\n",
    "            (6, '2024-06-02', 7000),\n",
    "            (7, '2024-06-03', 8000)\n",
    "    \"\"\")\n",
    "\n",
    "    # Commit the transaction\n",
    "    connection.commit()\n",
    "    print(\"Sales table created and data inserted successfully.\")\n",
    "\n",
    "except Error as e:\n",
    "    print(\"Error:\", e)\n",
    "\n",
    "finally:\n",
    "    if connection.is_connected():\n",
    "        cursor.close()\n",
    "        connection.close()"
   ]
  },
  {
   "cell_type": "code",
   "execution_count": 9,
   "id": "a0f2547f-28a5-43dd-beef-b162e1298fe1",
   "metadata": {},
   "outputs": [
    {
     "name": "stdout",
     "output_type": "stream",
     "text": [
      "(1, datetime.date(2024, 6, 1), Decimal('10000.00'))\n",
      "(2, datetime.date(2024, 6, 2), Decimal('8000.00'))\n",
      "(3, datetime.date(2024, 6, 3), Decimal('12000.00'))\n",
      "(4, datetime.date(2024, 6, 4), Decimal('5000.00'))\n",
      "(5, datetime.date(2024, 6, 1), Decimal('9000.00'))\n",
      "(6, datetime.date(2024, 6, 2), Decimal('7000.00'))\n",
      "(7, datetime.date(2024, 6, 3), Decimal('8000.00'))\n"
     ]
    }
   ],
   "source": [
    "import mysql.connector\n",
    "\n",
    "# Connect to MySQL and select the database\n",
    "connection = mysql.connector.connect(\n",
    "    host='localhost',\n",
    "    user='root',      # Replace with your MySQL username\n",
    "    password='Vaishu@1803',  # Replace with your password\n",
    "    database='Alephys'         # The database you created\n",
    ")\n",
    "\n",
    "cursor = connection.cursor()\n",
    "\n",
    "# Run a SELECT query (example for the 'employees' table)\n",
    "cursor.execute(\"SELECT * FROM sales\")\n",
    "\n",
    "# Fetch all rows\n",
    "rows = cursor.fetchall()\n",
    "\n",
    "# Display the data\n",
    "for row in rows:\n",
    "    print(row)\n",
    "\n",
    "# Clean up\n",
    "cursor.close()\n",
    "connection.close()"
   ]
  },
  {
   "cell_type": "code",
   "execution_count": 11,
   "id": "4a0a22ee-e7d4-4b86-aa54-025eb499c27d",
   "metadata": {},
   "outputs": [
    {
     "name": "stdout",
     "output_type": "stream",
     "text": [
      "Transactions table created and data inserted successfully.\n"
     ]
    }
   ],
   "source": [
    "import mysql.connector\n",
    "from mysql.connector import Error\n",
    "\n",
    "try:\n",
    "    # Step 1: Connect to MySQL and Alephys database\n",
    "    connection = mysql.connector.connect(\n",
    "        host='localhost',\n",
    "        user='root',       # Replace with your username\n",
    "        password='Vaishu@1803',   # Replace with your password\n",
    "        database='Alephys'\n",
    "    )\n",
    "\n",
    "    cursor = connection.cursor()\n",
    "\n",
    "    # Step 2: Create transactions table\n",
    "    cursor.execute(\"\"\"\n",
    "        CREATE TABLE IF NOT EXISTS transactions (\n",
    "            transaction_id INT AUTO_INCREMENT PRIMARY KEY,\n",
    "            col1 VARCHAR(50) NOT NULL,\n",
    "            col2 VARCHAR(50) NOT NULL,\n",
    "            transaction_date DATE,\n",
    "            amount DECIMAL(12,2)\n",
    "        );\n",
    "    \"\"\")\n",
    "\n",
    "    # Step 3: Insert rows into the transactions table\n",
    "    cursor.execute(\"\"\"\n",
    "        INSERT INTO transactions (transaction_id, col1, col2, transaction_date, amount)\n",
    "        VALUES \n",
    "            (101, 'A1', 'B1', '2024-06-01', 100),\n",
    "            (102, 'A2', 'B2', '2024-06-02', 150),\n",
    "            (103, 'A1', 'B1', '2024-06-03', 200),\n",
    "            (104, 'A3', 'B3', '2024-06-04', 250),\n",
    "            (105, 'A2', 'B2', '2024-06-05', 300),\n",
    "            (106, 'A2', 'B2', '2024-06-05', 300)\n",
    "    \"\"\")\n",
    "\n",
    "    connection.commit()\n",
    "    print(\"Transactions table created and data inserted successfully.\")\n",
    "\n",
    "except Error as e:\n",
    "    print(\"Error:\", e)\n",
    "\n",
    "finally:\n",
    "    if connection.is_connected():\n",
    "        cursor.close()\n",
    "        connection.close()"
   ]
  },
  {
   "cell_type": "code",
   "execution_count": 12,
   "id": "6af9bee2-b271-46d5-b353-71114dc34668",
   "metadata": {},
   "outputs": [
    {
     "name": "stdout",
     "output_type": "stream",
     "text": [
      "(101, 'A1', 'B1', datetime.date(2024, 6, 1), Decimal('100.00'))\n",
      "(102, 'A2', 'B2', datetime.date(2024, 6, 2), Decimal('150.00'))\n",
      "(103, 'A1', 'B1', datetime.date(2024, 6, 3), Decimal('200.00'))\n",
      "(104, 'A3', 'B3', datetime.date(2024, 6, 4), Decimal('250.00'))\n",
      "(105, 'A2', 'B2', datetime.date(2024, 6, 5), Decimal('300.00'))\n",
      "(106, 'A2', 'B2', datetime.date(2024, 6, 5), Decimal('300.00'))\n"
     ]
    }
   ],
   "source": [
    "import mysql.connector\n",
    "\n",
    "# Connect to MySQL and select the database\n",
    "connection = mysql.connector.connect(\n",
    "    host='localhost',\n",
    "    user='root',      # Replace with your MySQL username\n",
    "    password='Vaishu@1803',  # Replace with your password\n",
    "    database='Alephys'         # The database you created\n",
    ")\n",
    "\n",
    "cursor = connection.cursor()\n",
    "\n",
    "# Run a SELECT query (example for the 'employees' table)\n",
    "cursor.execute(\"SELECT * FROM transactions\")\n",
    "\n",
    "# Fetch all rows\n",
    "rows = cursor.fetchall()\n",
    "\n",
    "# Display the data\n",
    "for row in rows:\n",
    "    print(row)\n",
    "\n",
    "# Clean up\n",
    "cursor.close()\n",
    "connection.close()"
   ]
  },
  {
   "cell_type": "code",
   "execution_count": null,
   "id": "00f58c77-7c2f-4412-900d-71ec4e523031",
   "metadata": {},
   "outputs": [],
   "source": []
  }
 ],
 "metadata": {
  "kernelspec": {
   "display_name": "Python [conda env:base] *",
   "language": "python",
   "name": "conda-base-py"
  },
  "language_info": {
   "codemirror_mode": {
    "name": "ipython",
    "version": 3
   },
   "file_extension": ".py",
   "mimetype": "text/x-python",
   "name": "python",
   "nbconvert_exporter": "python",
   "pygments_lexer": "ipython3",
   "version": "3.12.7"
  }
 },
 "nbformat": 4,
 "nbformat_minor": 5
}
